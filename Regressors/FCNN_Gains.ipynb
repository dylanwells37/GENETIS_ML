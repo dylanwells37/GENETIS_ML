{
 "cells": [
  {
   "cell_type": "code",
   "execution_count": null,
   "metadata": {},
   "outputs": [],
   "source": []
  }
 ],
 "metadata": {
  "kernelspec": {
   "display_name": "Python 3.9.13 ('base')",
   "language": "python",
   "name": "python3"
  },
  "language_info": {
   "name": "python",
   "version": "3.9.13"
  },
  "orig_nbformat": 4,
  "vscode": {
   "interpreter": {
    "hash": "2ffbebc7748f84c0fa5487430c40ce42e7b9cbcef69635c2b5c2a20317b069ad"
   }
  }
 },
 "nbformat": 4,
 "nbformat_minor": 2
}
